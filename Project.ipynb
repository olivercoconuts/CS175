{
 "cells": [
  {
   "cell_type": "code",
   "execution_count": 1,
   "metadata": {},
   "outputs": [],
   "source": [
    "# import tensorflow as tf\n",
    "import numpy as np\n",
    "# import keras\n",
    "# from keras.models import Sequential\n",
    "# from keras.layers import Dense\n",
    "import os\n",
    "import skimage.data\n",
    "import matplotlib.pyplot as plt\n",
    "import cv2\n",
    "%matplotlib inline\n",
    "import json\n",
    "import PIL\n",
    "from PIL import Image"
   ]
  },
  {
   "cell_type": "code",
   "execution_count": 8,
   "metadata": {},
   "outputs": [],
   "source": [
    "def load_data(data_directory):\n",
    "    file_names = [os.path.join(data_directory, d) for d in os.listdir(data_directory)]\n",
    "    images = dict()\n",
    "    for f in file_names:\n",
    "#         images.append(skimage.data.imread(f))\n",
    "        images[f.split('/')[-1][0:-4]] = skimage.data.imread(f)\n",
    "    return images"
   ]
  },
  {
   "cell_type": "code",
   "execution_count": 16,
   "metadata": {},
   "outputs": [],
   "source": [
    "resize_ratio = 0.15625\n",
    "# data_directory = \"DataSet/Color/\"\n",
    "# file_names = [os.path.join(data_directory, d) for d in os.listdir(data_directory)]\n",
    "\n",
    "# for f in file_names:\n",
    "#     if 'jpg' in f:\n",
    "#         basewidth = 300\n",
    "#         img = Image.open(f)\n",
    "#         wpercent = (basewidth / float(img.size[0]))\n",
    "#         hsize = int((float(img.size[1]) * float(wpercent)))\n",
    "#         img = img.resize((basewidth, hsize), PIL.Image.ANTIALIAS)\n",
    "#         img.save('Dataset/resize/' + f.split('/')[-1])"
   ]
  },
  {
   "cell_type": "code",
   "execution_count": 9,
   "metadata": {
    "scrolled": false
   },
   "outputs": [],
   "source": [
    "images = load_data(\"DataSet/resize/\")"
   ]
  },
  {
   "cell_type": "code",
   "execution_count": 14,
   "metadata": {
    "scrolled": false
   },
   "outputs": [],
   "source": [
    "with open('DataSet/annotation.json') as f:\n",
    "    joints = json.load(f)"
   ]
  },
  {
   "cell_type": "code",
   "execution_count": 18,
   "metadata": {},
   "outputs": [],
   "source": [
    "# Preprocess labels\n",
    "# pos = dict()\n",
    "txt_temp = dict()\n",
    "offset = 10\n",
    "for key in joints:\n",
    "    x_coord = [x[0] for x in joints[key]]\n",
    "    y_coord = [x[1] for x in joints[key]]\n",
    "#     pos[key] = [int(min(x_coord)), int(min(y_coord)), int(max(x_coord)), int(max(y_coord))]\n",
    "    max_x = max(x_coord)*resize_ratio\n",
    "    min_x = min(x_coord)*resize_ratio\n",
    "    max_y = max(y_coord)*resize_ratio\n",
    "    min_y = min(y_coord)*resize_ratio\n",
    "    ax = (min_x + max_x)/2\n",
    "    ay = (min_y + max_y)/2\n",
    "    width = images[key[:-2]].shape[1]\n",
    "    height = images[key[:-2]].shape[0]\n",
    "    \n",
    "    txt_temp[key] = [ax/width, ay/height,\n",
    "                     (max_x - min_x)/width, (max_y - min_y)/height]"
   ]
  },
  {
   "cell_type": "code",
   "execution_count": 28,
   "metadata": {},
   "outputs": [],
   "source": [
    "# Generate label files for yolo training\n",
    "for key in images:\n",
    "    f = open(\"yolo_labels/\"+key+\".txt\",\"w+\")\n",
    "    has_L = False\n",
    "    if key+'_L' in txt_temp.keys():\n",
    "        value = \"{} {} {} {}\".format(txt_temp[key+\"_L\"][0], txt_temp[key+\"_L\"][1], txt_temp[key+\"_L\"][2], txt_temp[key+\"_L\"][3])\n",
    "        f.write(\"0 \" + value)\n",
    "        has_L = True\n",
    "    if key+'_R' in txt_temp.keys():\n",
    "        value = \"{} {} {} {}\".format(txt_temp[key+\"_R\"][0], txt_temp[key+\"_R\"][1], txt_temp[key+\"_R\"][2], txt_temp[key+\"_R\"][3])\n",
    "        if has_L:\n",
    "            f.write(\"\\n\")\n",
    "        f.write(\"1 \" + value)\n",
    "    f.close()"
   ]
  },
  {
   "cell_type": "code",
   "execution_count": null,
   "metadata": {},
   "outputs": [],
   "source": []
  }
 ],
 "metadata": {
  "kernelspec": {
   "display_name": "Python 3",
   "language": "python",
   "name": "python3"
  },
  "language_info": {
   "codemirror_mode": {
    "name": "ipython",
    "version": 3
   },
   "file_extension": ".py",
   "mimetype": "text/x-python",
   "name": "python",
   "nbconvert_exporter": "python",
   "pygments_lexer": "ipython3",
   "version": "3.6.5"
  }
 },
 "nbformat": 4,
 "nbformat_minor": 2
}
