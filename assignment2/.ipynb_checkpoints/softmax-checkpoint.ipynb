{
 "cells": [
  {
   "cell_type": "markdown",
   "metadata": {},
   "source": [
    "# Softmax exercise\n",
    "\n",
    "*Complete and hand in this completed worksheet (including its outputs and any supporting code outside of the worksheet) with your assignment submission. For more details see the [assignments page](http://vision.stanford.edu/teaching/cs175/assignments.html) on the course website.*\n",
    "\n",
    "This exercise is analogous to the SVM exercise. You will:\n",
    "\n",
    "- implement a fully-vectorized **loss function** for the Softmax classifier\n",
    "- implement the fully-vectorized expression for its **analytic gradient**\n",
    "- **check your implementation** with numerical gradient\n",
    "- use a validation set to **tune the learning rate and regularization** strength\n",
    "- **optimize** the loss function with **SGD**\n",
    "- **visualize** the final learned weights\n"
   ]
  },
  {
   "cell_type": "code",
   "execution_count": 44,
   "metadata": {},
   "outputs": [
    {
     "name": "stdout",
     "output_type": "stream",
     "text": [
      "The autoreload extension is already loaded. To reload it, use:\n",
      "  %reload_ext autoreload\n"
     ]
    }
   ],
   "source": [
    "import random\n",
    "import numpy as np\n",
    "from cs175.data_utils import load_CIFAR10\n",
    "import matplotlib.pyplot as plt\n",
    "\n",
    "from __future__ import print_function\n",
    "\n",
    "%matplotlib inline\n",
    "plt.rcParams['figure.figsize'] = (10.0, 8.0) # set default size of plots\n",
    "plt.rcParams['image.interpolation'] = 'nearest'\n",
    "plt.rcParams['image.cmap'] = 'gray'\n",
    "\n",
    "# for auto-reloading extenrnal modules\n",
    "# see http://stackoverflow.com/questions/1907993/autoreload-of-modules-in-ipython\n",
    "%load_ext autoreload\n",
    "%autoreload 2"
   ]
  },
  {
   "cell_type": "code",
   "execution_count": 45,
   "metadata": {},
   "outputs": [
    {
     "name": "stdout",
     "output_type": "stream",
     "text": [
      "Train data shape:  (49000, 3073)\n",
      "Train labels shape:  (49000,)\n",
      "Validation data shape:  (1000, 3073)\n",
      "Validation labels shape:  (1000,)\n",
      "Test data shape:  (1000, 3073)\n",
      "Test labels shape:  (1000,)\n",
      "dev data shape:  (500, 3073)\n",
      "dev labels shape:  (500,)\n"
     ]
    }
   ],
   "source": [
    "def get_CIFAR10_data(num_training=49000, num_validation=1000, num_test=1000, num_dev=500):\n",
    "    \"\"\"\n",
    "    Load the CIFAR-10 dataset from disk and perform preprocessing to prepare\n",
    "    it for the linear classifier. These are the same steps as we used for the\n",
    "    SVM, but condensed to a single function.  \n",
    "    \"\"\"\n",
    "    # Load the raw CIFAR-10 data\n",
    "    cifar10_dir = 'cs175/datasets/cifar-10-batches-py'\n",
    "    X_train, y_train, X_test, y_test = load_CIFAR10(cifar10_dir)\n",
    "    \n",
    "    # subsample the data\n",
    "    mask = list(range(num_training, num_training + num_validation))\n",
    "    X_val = X_train[mask]\n",
    "    y_val = y_train[mask]\n",
    "    mask = list(range(num_training))\n",
    "    X_train = X_train[mask]\n",
    "    y_train = y_train[mask]\n",
    "    mask = list(range(num_test))\n",
    "    X_test = X_test[mask]\n",
    "    y_test = y_test[mask]\n",
    "    mask = np.random.choice(num_training, num_dev, replace=False)\n",
    "    X_dev = X_train[mask]\n",
    "    y_dev = y_train[mask]\n",
    "    \n",
    "    # Preprocessing: reshape the image data into rows\n",
    "    X_train = np.reshape(X_train, (X_train.shape[0], -1))\n",
    "    X_val = np.reshape(X_val, (X_val.shape[0], -1))\n",
    "    X_test = np.reshape(X_test, (X_test.shape[0], -1))\n",
    "    X_dev = np.reshape(X_dev, (X_dev.shape[0], -1))\n",
    "    \n",
    "    # Normalize the data: subtract the mean image\n",
    "    mean_image = np.mean(X_train, axis = 0)\n",
    "    X_train -= mean_image\n",
    "    X_val -= mean_image\n",
    "    X_test -= mean_image\n",
    "    X_dev -= mean_image\n",
    "    \n",
    "    # add bias dimension and transform into columns\n",
    "    X_train = np.hstack([X_train, np.ones((X_train.shape[0], 1))])\n",
    "    X_val = np.hstack([X_val, np.ones((X_val.shape[0], 1))])\n",
    "    X_test = np.hstack([X_test, np.ones((X_test.shape[0], 1))])\n",
    "    X_dev = np.hstack([X_dev, np.ones((X_dev.shape[0], 1))])\n",
    "    \n",
    "    return X_train, y_train, X_val, y_val, X_test, y_test, X_dev, y_dev\n",
    "\n",
    "\n",
    "# Invoke the above function to get our data.\n",
    "X_train, y_train, X_val, y_val, X_test, y_test, X_dev, y_dev = get_CIFAR10_data()\n",
    "print('Train data shape: ', X_train.shape)\n",
    "print('Train labels shape: ', y_train.shape)\n",
    "print('Validation data shape: ', X_val.shape)\n",
    "print('Validation labels shape: ', y_val.shape)\n",
    "print('Test data shape: ', X_test.shape)\n",
    "print('Test labels shape: ', y_test.shape)\n",
    "print('dev data shape: ', X_dev.shape)\n",
    "print('dev labels shape: ', y_dev.shape)"
   ]
  },
  {
   "cell_type": "markdown",
   "metadata": {},
   "source": [
    "## Softmax Classifier\n",
    "\n",
    "Your code for this section will all be written inside **cs175/classifiers/softmax.py**. \n"
   ]
  },
  {
   "cell_type": "code",
   "execution_count": 46,
   "metadata": {},
   "outputs": [
    {
     "name": "stdout",
     "output_type": "stream",
     "text": [
      "loss: 2.383626\n",
      "sanity check: 2.302585\n"
     ]
    }
   ],
   "source": [
    "# First implement the naive softmax loss function with nested loops.\n",
    "# Open the file cs175/classifiers/softmax.py and implement the\n",
    "# softmax_loss_naive function.\n",
    "\n",
    "from cs175.classifiers.softmax import softmax_loss_naive\n",
    "import time\n",
    "\n",
    "# Generate a random softmax weight matrix and use it to compute the loss.\n",
    "W = np.random.randn(3073, 10) * 0.0001\n",
    "loss, grad = softmax_loss_naive(W, X_dev, y_dev, 0.0)\n",
    "\n",
    "# As a rough sanity check, our loss should be something close to -log(0.1).\n",
    "print('loss: %f' % loss)\n",
    "print('sanity check: %f' % (-np.log(0.1)))"
   ]
  },
  {
   "cell_type": "markdown",
   "metadata": {},
   "source": [
    "## Inline Question 1:\n",
    "Why do we expect our loss to be close to -log(0.1)? Explain briefly.**\n",
    "\n",
    "**Your answer:** Since the weight is randomly generated, the probability of each class is equal and is 1/10. Therefore the cross entropy for each example is -log(0.1)\n"
   ]
  },
  {
   "cell_type": "code",
   "execution_count": 47,
   "metadata": {},
   "outputs": [
    {
     "name": "stdout",
     "output_type": "stream",
     "text": [
      "numerical: 2.674903 analytic: 2.674903, relative error: 2.253045e-10\n",
      "numerical: 2.850957 analytic: 2.850957, relative error: 1.075690e-08\n",
      "numerical: 0.117197 analytic: 0.117197, relative error: 1.710021e-07\n",
      "numerical: -1.374179 analytic: -1.374179, relative error: 1.096114e-08\n",
      "numerical: -1.181363 analytic: -1.181363, relative error: 8.141589e-08\n",
      "numerical: -2.709728 analytic: -2.709728, relative error: 1.507741e-08\n",
      "numerical: -0.467815 analytic: -0.467815, relative error: 2.351314e-08\n",
      "numerical: -1.065045 analytic: -1.065045, relative error: 4.482444e-08\n",
      "numerical: -2.620453 analytic: -2.620453, relative error: 2.999270e-08\n",
      "numerical: 2.544842 analytic: 2.544842, relative error: 1.763346e-08\n",
      "numerical: 1.298059 analytic: 1.298059, relative error: 2.094926e-08\n",
      "numerical: 2.189398 analytic: 2.189398, relative error: 2.013518e-08\n",
      "numerical: -2.724989 analytic: -2.724989, relative error: 1.184294e-08\n",
      "numerical: 0.716994 analytic: 0.716994, relative error: 4.079609e-08\n",
      "numerical: -4.158424 analytic: -4.158424, relative error: 1.866420e-08\n",
      "numerical: -2.259770 analytic: -2.259770, relative error: 6.957298e-09\n",
      "numerical: -0.188149 analytic: -0.188149, relative error: 1.623347e-07\n",
      "numerical: 1.903149 analytic: 1.903149, relative error: 3.057053e-08\n",
      "numerical: 1.963166 analytic: 1.963166, relative error: 1.099130e-08\n",
      "numerical: 1.779617 analytic: 1.779617, relative error: 2.123450e-08\n"
     ]
    }
   ],
   "source": [
    "# Complete the implementation of softmax_loss_naive and implement a (naive)\n",
    "# version of the gradient that uses nested loops.\n",
    "loss, grad = softmax_loss_naive(W, X_dev, y_dev, 0.0)\n",
    "\n",
    "# As we did for the SVM, use numeric gradient checking as a debugging tool.\n",
    "# The numeric gradient should be close to the analytic gradient.\n",
    "from cs175.gradient_check import grad_check_sparse\n",
    "f = lambda w: softmax_loss_naive(w, X_dev, y_dev, 0.0)[0]\n",
    "grad_numerical = grad_check_sparse(f, W, grad, 10)\n",
    "\n",
    "# similar to SVM case, do another gradient check with regularization\n",
    "loss, grad = softmax_loss_naive(W, X_dev, y_dev, 5e1)\n",
    "f = lambda w: softmax_loss_naive(w, X_dev, y_dev, 5e1)[0]\n",
    "grad_numerical = grad_check_sparse(f, W, grad, 10)"
   ]
  },
  {
   "cell_type": "code",
   "execution_count": 48,
   "metadata": {
    "scrolled": false
   },
   "outputs": [
    {
     "name": "stdout",
     "output_type": "stream",
     "text": [
      "naive loss: 2.383626e+00 computed in 0.094328s\n",
      "vectorized loss: 2.383626e+00 computed in 0.005095s\n",
      "Loss difference: 0.000000\n",
      "Gradient difference: 0.000001\n"
     ]
    }
   ],
   "source": [
    "# Now that we have a naive implementation of the softmax loss function and its gradient,\n",
    "# implement a vectorized version in softmax_loss_vectorized.\n",
    "# The two versions should compute the same results, but the vectorized version should be\n",
    "# much faster.\n",
    "tic = time.time()\n",
    "loss_naive, grad_naive = softmax_loss_naive(W, X_dev, y_dev, 0.000005)\n",
    "toc = time.time()\n",
    "print('naive loss: %e computed in %fs' % (loss_naive, toc - tic))\n",
    "\n",
    "from cs175.classifiers.softmax import softmax_loss_vectorized\n",
    "tic = time.time()\n",
    "loss_vectorized, grad_vectorized = softmax_loss_vectorized(W, X_dev, y_dev, 0.000005)\n",
    "toc = time.time()\n",
    "print('vectorized loss: %e computed in %fs' % (loss_vectorized, toc - tic))\n",
    "\n",
    "# As we did for the SVM, we use the Frobenius norm to compare the two versions\n",
    "# of the gradient.\n",
    "grad_difference = np.linalg.norm(grad_naive - grad_vectorized, ord='fro')\n",
    "print('Loss difference: %f' % np.abs(loss_naive - loss_vectorized))\n",
    "print('Gradient difference: %f' % grad_difference)"
   ]
  },
  {
   "cell_type": "code",
   "execution_count": 49,
   "metadata": {
    "scrolled": false
   },
   "outputs": [
    {
     "name": "stderr",
     "output_type": "stream",
     "text": [
      "/Users/mcoliver/Desktop/CS175/assignment2/cs175/classifiers/softmax.py:104: RuntimeWarning: divide by zero encountered in log\n",
      "  \n"
     ]
    },
    {
     "name": "stdout",
     "output_type": "stream",
     "text": [
      "lr 2.000000e-07 reg 1.000000e+04 train accuracy: 0.165061 val accuracy: 0.174000\n",
      "lr 2.000000e-07 reg 2.000000e+04 train accuracy: 0.192837 val accuracy: 0.198000\n",
      "lr 2.000000e-07 reg 5.000000e+04 train accuracy: 0.205571 val accuracy: 0.198000\n",
      "lr 2.000000e-07 reg 2.000000e+05 train accuracy: 0.281041 val accuracy: 0.301000\n",
      "lr 2.000000e-07 reg 3.000000e+05 train accuracy: 0.298306 val accuracy: 0.302000\n",
      "lr 2.000000e-07 reg 5.000000e+05 train accuracy: 0.257633 val accuracy: 0.272000\n",
      "lr 2.000000e-07 reg 1.000000e+06 train accuracy: 0.258469 val accuracy: 0.275000\n",
      "lr 5.000000e-07 reg 1.000000e+04 train accuracy: 0.221388 val accuracy: 0.229000\n",
      "lr 5.000000e-07 reg 2.000000e+04 train accuracy: 0.245735 val accuracy: 0.245000\n",
      "lr 5.000000e-07 reg 5.000000e+04 train accuracy: 0.314449 val accuracy: 0.325000\n",
      "lr 5.000000e-07 reg 2.000000e+05 train accuracy: 0.284082 val accuracy: 0.291000\n",
      "lr 5.000000e-07 reg 3.000000e+05 train accuracy: 0.278388 val accuracy: 0.293000\n",
      "lr 5.000000e-07 reg 5.000000e+05 train accuracy: 0.269469 val accuracy: 0.287000\n",
      "lr 5.000000e-07 reg 1.000000e+06 train accuracy: 0.266082 val accuracy: 0.270000\n",
      "lr 1.000000e-06 reg 1.000000e+04 train accuracy: 0.283898 val accuracy: 0.272000\n",
      "lr 1.000000e-06 reg 2.000000e+04 train accuracy: 0.322224 val accuracy: 0.317000\n",
      "lr 1.000000e-06 reg 5.000000e+04 train accuracy: 0.314429 val accuracy: 0.325000\n",
      "lr 1.000000e-06 reg 2.000000e+05 train accuracy: 0.251531 val accuracy: 0.261000\n",
      "lr 1.000000e-06 reg 3.000000e+05 train accuracy: 0.253000 val accuracy: 0.270000\n",
      "lr 1.000000e-06 reg 5.000000e+05 train accuracy: 0.232939 val accuracy: 0.244000\n",
      "lr 1.000000e-06 reg 1.000000e+06 train accuracy: 0.203000 val accuracy: 0.222000\n",
      "lr 2.000000e-06 reg 1.000000e+04 train accuracy: 0.343408 val accuracy: 0.364000\n",
      "lr 2.000000e-06 reg 2.000000e+04 train accuracy: 0.338102 val accuracy: 0.344000\n",
      "lr 2.000000e-06 reg 5.000000e+04 train accuracy: 0.292061 val accuracy: 0.306000\n",
      "lr 2.000000e-06 reg 2.000000e+05 train accuracy: 0.252694 val accuracy: 0.268000\n",
      "lr 2.000000e-06 reg 3.000000e+05 train accuracy: 0.251918 val accuracy: 0.265000\n",
      "lr 2.000000e-06 reg 5.000000e+05 train accuracy: 0.147796 val accuracy: 0.155000\n",
      "lr 2.000000e-06 reg 1.000000e+06 train accuracy: 0.104245 val accuracy: 0.104000\n",
      "lr 4.000000e-06 reg 1.000000e+04 train accuracy: 0.350714 val accuracy: 0.343000\n",
      "lr 4.000000e-06 reg 2.000000e+04 train accuracy: 0.297408 val accuracy: 0.313000\n",
      "lr 4.000000e-06 reg 5.000000e+04 train accuracy: 0.249429 val accuracy: 0.250000\n",
      "lr 4.000000e-06 reg 2.000000e+05 train accuracy: 0.146367 val accuracy: 0.148000\n",
      "lr 4.000000e-06 reg 3.000000e+05 train accuracy: 0.138163 val accuracy: 0.128000\n",
      "lr 4.000000e-06 reg 5.000000e+05 train accuracy: 0.070857 val accuracy: 0.081000\n",
      "lr 4.000000e-06 reg 1.000000e+06 train accuracy: 0.079837 val accuracy: 0.076000\n",
      "lr 5.000000e-06 reg 1.000000e+04 train accuracy: 0.312122 val accuracy: 0.309000\n",
      "lr 5.000000e-06 reg 2.000000e+04 train accuracy: 0.315531 val accuracy: 0.328000\n",
      "lr 5.000000e-06 reg 5.000000e+04 train accuracy: 0.201816 val accuracy: 0.203000\n",
      "lr 5.000000e-06 reg 2.000000e+05 train accuracy: 0.109673 val accuracy: 0.113000\n",
      "lr 5.000000e-06 reg 3.000000e+05 train accuracy: 0.173898 val accuracy: 0.167000\n",
      "lr 5.000000e-06 reg 5.000000e+05 train accuracy: 0.094102 val accuracy: 0.084000\n",
      "lr 5.000000e-06 reg 1.000000e+06 train accuracy: 0.091592 val accuracy: 0.087000\n",
      "lr 6.000000e-06 reg 1.000000e+04 train accuracy: 0.255449 val accuracy: 0.253000\n",
      "lr 6.000000e-06 reg 2.000000e+04 train accuracy: 0.250041 val accuracy: 0.268000\n",
      "lr 6.000000e-06 reg 5.000000e+04 train accuracy: 0.176857 val accuracy: 0.186000\n",
      "lr 6.000000e-06 reg 2.000000e+05 train accuracy: 0.120327 val accuracy: 0.125000\n",
      "lr 6.000000e-06 reg 3.000000e+05 train accuracy: 0.127306 val accuracy: 0.129000\n",
      "lr 6.000000e-06 reg 5.000000e+05 train accuracy: 0.111633 val accuracy: 0.116000\n",
      "lr 6.000000e-06 reg 1.000000e+06 train accuracy: 0.117510 val accuracy: 0.121000\n",
      "best validation accuracy achieved during cross-validation: 0.364000\n"
     ]
    }
   ],
   "source": [
    "# Use the validation set to tune hyperparameters (regularization strength and\n",
    "# learning rate). You should experiment with different ranges for the learning\n",
    "# rates and regularization strengths; if you are careful you should be able to\n",
    "# get a classification accuracy of over 0.35 on the validation set.\n",
    "from cs175.classifiers import Softmax\n",
    "results = {}\n",
    "best_val = -1\n",
    "best_softmax = None\n",
    "learning_rates = [2e-7, 5e-7, 1e-6, 2e-6, 4e-6,5e-6,6e-6]\n",
    "regularization_strengths = [1e4, 2e4, 5e4, 2e5, 3e5, 5e5, 1e6]\n",
    "\n",
    "################################################################################\n",
    "# TODO:                                                                        #\n",
    "# Use the validation set to set the learning rate and regularization strength. #\n",
    "# This should be identical to the validation that you did for the SVM; save    #\n",
    "# the best trained softmax classifer in best_softmax.                          #\n",
    "################################################################################\n",
    "for lr in learning_rates:\n",
    "    for reg in regularization_strengths:\n",
    "        softmax = Softmax()\n",
    "        softmax.train(X_train,y_train,learning_rate=lr,reg=reg)\n",
    "        y_train_pred = softmax.predict(X_train)\n",
    "        train_accuracy = np.mean(y_train == y_train_pred)\n",
    "        y_val_pred = softmax.predict(X_val)\n",
    "        val_accuracy = np.mean(y_val == y_val_pred)\n",
    "        \n",
    "        if val_accuracy > best_val:\n",
    "            best_val = val_accuracy\n",
    "            best_softmax = softmax\n",
    "        results[(lr,reg)] = (train_accuracy,val_accuracy)\n",
    "################################################################################\n",
    "#                              END OF YOUR CODE                                #\n",
    "################################################################################\n",
    "    \n",
    "# Print out results.\n",
    "for lr, reg in sorted(results):\n",
    "    train_accuracy, val_accuracy = results[(lr, reg)]\n",
    "    print('lr %e reg %e train accuracy: %f val accuracy: %f' % (\n",
    "                lr, reg, train_accuracy, val_accuracy))\n",
    "    \n",
    "print('best validation accuracy achieved during cross-validation: %f' % best_val)"
   ]
  },
  {
   "cell_type": "code",
   "execution_count": 50,
   "metadata": {},
   "outputs": [
    {
     "name": "stdout",
     "output_type": "stream",
     "text": [
      "softmax on raw pixels final test set accuracy: 0.353000\n"
     ]
    }
   ],
   "source": [
    "# evaluate on test set\n",
    "# Evaluate the best softmax on test set\n",
    "y_test_pred = best_softmax.predict(X_test)\n",
    "test_accuracy = np.mean(y_test == y_test_pred)\n",
    "print('softmax on raw pixels final test set accuracy: %f' % (test_accuracy, ))"
   ]
  },
  {
   "cell_type": "code",
   "execution_count": 51,
   "metadata": {},
   "outputs": [
    {
     "data": {
      "image/png": "[encoded data removed]",
      "text/plain": [
       "<matplotlib.figure.Figure at 0x180ff28438>"
      ]
     },
     "metadata": {},
     "output_type": "display_data"
    }
   ],
   "source": [
    "# Visualize the learned weights for each class\n",
    "w = best_softmax.W[:-1,:] # strip out the bias\n",
    "w = w.reshape(32, 32, 3, 10)\n",
    "\n",
    "w_min, w_max = np.min(w), np.max(w)\n",
    "\n",
    "classes = ['plane', 'car', 'bird', 'cat', 'deer', 'dog', 'frog', 'horse', 'ship', 'truck']\n",
    "for i in range(10):\n",
    "    plt.subplot(2, 5, i + 1)\n",
    "    \n",
    "    # Rescale the weights to be between 0 and 255\n",
    "    wimg = 255.0 * (w[:, :, :, i].squeeze() - w_min) / (w_max - w_min)\n",
    "    plt.imshow(wimg.astype('uint8'))\n",
    "    plt.axis('off')\n",
    "    plt.title(classes[i])"
   ]
  }
 ],
 "metadata": {
  "kernelspec": {
   "display_name": "Python 3",
   "language": "python",
   "name": "python3"
  },
  "language_info": {
   "codemirror_mode": {
    "name": "ipython",
    "version": 3
   },
   "file_extension": ".py",
   "mimetype": "text/x-python",
   "name": "python",
   "nbconvert_exporter": "python",
   "pygments_lexer": "ipython3",
   "version": "3.6.3"
  }
 },
 "nbformat": 4,
 "nbformat_minor": 1
}
